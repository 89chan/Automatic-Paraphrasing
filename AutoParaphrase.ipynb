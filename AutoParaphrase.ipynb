{
 "cells": [
  {
   "cell_type": "code",
   "execution_count": 10,
   "metadata": {
    "collapsed": false
   },
   "outputs": [
    {
     "name": "stdout",
     "output_type": "stream",
     "text": [
      "100\n",
      "['の', 'て', 'は', 'だ', 'た', 'に', 'が', 'を', 'と', 'する', 'も', 'で', 'いる', 'ます', 'か', 'です', 'ある', 'いう', 'ない', 'から', 'ない', 'なる', 'お', 'その', '一', 'それ', 'よい', '人', '何', '来る', 'もの', '見る', 'いく', 'よ', 'そう', '方', '時', 'ね', 'わたくし', 'できる', 'さん', '二', 'や', 'どう', 'この', 'まで', 'だけ', 'てる', '三', '中', 'ところ', 'たい', 'わかる', '自分', 'へ', 'これ', 'など', '今', '日', 'あと', 'やる', '出る', '十', '二十', '三十', '前', '聞く', '目', 'たち', '年', 'たり', 'また', '五', '五十', '下さる', '知る', '入る', 'より', '持つ', 'もう', '使う', 'くらい', 'うち', '四', '四十', 'うえ', '等', 'ながら', '度', 'あなた', 'つ', 'とる', '置く／おく', '出す', '家', '同じ', '手', '話', '時間', '男']\n"
     ]
    }
   ],
   "source": [
    "import xlrd\n",
    "S1 = input() #read how many vacabulary a user knows. Intermidiate learner knows approx. 3000 - 6000\n",
    "S2 = int(S1)\n",
    "book = xlrd.open_workbook('Japanese Learner Language.xlsx') # Japanese Learner Language.xlsx is the Vocabulary Database for Reading Japanese\n",
    "sheet_1 = book.sheet_by_index(0)\n",
    "Excel_list = [] \n",
    "\n",
    "for row in range(1 , S2 + 1  ): \n",
    "        s = sheet_1.cell(row, 0).value\n",
    "        Excel_list.append(s)\n",
    "print(Excel_list) # Show what vocabulary a user knows"
   ]
  },
  {
   "cell_type": "code",
   "execution_count": 4,
   "metadata": {
    "collapsed": false
   },
   "outputs": [
    {
     "name": "stderr",
     "output_type": "stream",
     "text": [
      "/home/takuya/anaconda3/lib/python3.5/site-packages/gensim/utils.py:1015: UserWarning: Pattern library is not installed, lemmatization won't be available.\n",
      "  warnings.warn(\"Pattern library is not installed, lemmatization won't be available.\")\n"
     ]
    }
   ],
   "source": [
    "from gensim.models import word2vec # import word2vec from gensim package\n",
    "model = word2vec.Word2Vec.load(\"Jawiki.model\") # load Word2vec model which is trained with use of Japanse Wikipedia corpus"
   ]
  },
  {
   "cell_type": "code",
   "execution_count": 11,
   "metadata": {
    "collapsed": false
   },
   "outputs": [],
   "source": [
    "f = open(\"Output4.txt\",'w') # Open a text file as output\n",
    "for line in open('Input_wakati4.txt', 'r'): # read a text file a user want to paraphrase.\n",
    "    s = replace(line) # extract 。,　、,　「　,」, and more for regular expression\n",
    "    itemList = s[:-1].split(' ')\n",
    "    for item in itemList:\n",
    "        if item != '　' or ' ':\n",
    "            bl1 = check(item) # Check if a word is include in the Vocabulary Database; confirm if a user knows the voacabulary or not.\n",
    "            if bl1 == False: # if a user do not know the word, paraphase the word with refering to the Vocaburaly Database\n",
    "                try:\n",
    "                    word = paraphrase(item) # paraphrase the word\n",
    "                except:\n",
    "                    word = item\n",
    "            if bl1 == True:  # if a user know the word, the word is just outputted as it is\n",
    "                word = item \n",
    "        f.write(word) # Write down the word in the output text file\n",
    "f.close()"
   ]
  },
  {
   "cell_type": "code",
   "execution_count": 6,
   "metadata": {
    "collapsed": true
   },
   "outputs": [],
   "source": [
    "def replace(s): # this is a function which extract 。,　、,　「　,」, and more for word deviding and regular expressing\n",
    "    s1 = s.replace(',', ' ')\n",
    "    s2 = s1.replace('.', ' ')\n",
    "    s3 = s2.replace('=',' ')\n",
    "    s4 = s3.replace('(',' ')\n",
    "    s5 = s4.replace(')',' ')\n",
    "    s6 = s5.replace('\"',' ')\n",
    "    s7 = s6.replace('*',' ')\n",
    "    s8 = s7.replace('@',' ')\n",
    "    s9 = s8.replace(':',' ')\n",
    "    s10 = s9.replace('[',' ')\n",
    "    s11 = s10.replace(';',' ')\n",
    "    s12 = s11.replace(']',' ')\n",
    "    s13 = s12.replace('|',' ')\n",
    "    s14 = s13.replace('{',' ')\n",
    "    s15 = s14.replace('}',' ')\n",
    "    s16 = s15.replace('/',' ')\n",
    "    s17 = s16.replace('、', ' ')\n",
    "    s18 = s17.replace('。', ' ')\n",
    "    s19 = s18.replace('（', ' ')\n",
    "    s20 = s19.replace('）', ' ')\n",
    "    return s20"
   ]
  },
  {
   "cell_type": "code",
   "execution_count": 7,
   "metadata": {
    "collapsed": true
   },
   "outputs": [],
   "source": [
    "def check(s): # this is a function to heck if a word is include in the Vocabulary Database; confirm if a user knows the voacabulary or not.\n",
    "    found = False\n",
    "    for word in Excel_list:\n",
    "        if s == word :\n",
    "            found = True\n",
    "            break\n",
    "    if found == True:\n",
    "        return True\n",
    "    else:\n",
    "        return False"
   ]
  },
  {
   "cell_type": "code",
   "execution_count": 8,
   "metadata": {
    "collapsed": true
   },
   "outputs": [],
   "source": [
    "def paraphrase(s): # this is a function to paraphrase the word\n",
    "    out=model.most_similar(positive=[s]) # list of the 10 most similar words to the input word s. Most similar words is obtained from Word2vec model\n",
    "    for x in out:\n",
    "        b2 = check(x[0])\n",
    "        if b2 == True:\n",
    "            return x[0]\n",
    "            print(x[0])\n",
    "        if b2 == False: # if there are not similar words in the list, the word is just outputted as it is.\n",
    "            return s"
   ]
  },
  {
   "cell_type": "code",
   "execution_count": null,
   "metadata": {
    "collapsed": true
   },
   "outputs": [],
   "source": []
  }
 ],
 "metadata": {
  "anaconda-cloud": {},
  "kernelspec": {
   "display_name": "Python [default]",
   "language": "python",
   "name": "python3"
  },
  "language_info": {
   "codemirror_mode": {
    "name": "ipython",
    "version": 3
   },
   "file_extension": ".py",
   "mimetype": "text/x-python",
   "name": "python",
   "nbconvert_exporter": "python",
   "pygments_lexer": "ipython3",
   "version": "3.5.2"
  }
 },
 "nbformat": 4,
 "nbformat_minor": 1
}
